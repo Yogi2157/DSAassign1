{
 "cells": [
  {
   "attachments": {},
   "cell_type": "markdown",
   "metadata": {},
   "source": [
    "Q1. Write a program to find all pairs of an integer array whose sum is equal to a given number?\n",
    "\n"
   ]
  },
  {
   "cell_type": "code",
   "execution_count": 4,
   "metadata": {},
   "outputs": [
    {
     "name": "stdout",
     "output_type": "stream",
     "text": [
      "[(1, 4), (2, 3)]\n"
     ]
    }
   ],
   "source": [
    "def pairs(array,target):\n",
    "    pairs=[]\n",
    "    for i in range(len(array)):\n",
    "        for j in range(i+1,len(array)):\n",
    "            if array[i] + array[j] == target:\n",
    "                pairs.append((array[i], array[j]))\n",
    "    return pairs\n",
    "        \n",
    "array = [1, 2, 3, 4, 5, 6, 7, 8]\n",
    "target = 5\n",
    "result = pairs(array,target)\n",
    "print(result)"
   ]
  },
  {
   "attachments": {},
   "cell_type": "markdown",
   "metadata": {},
   "source": [
    "Q2. Write a program to reverse an array in place? In place means you cannot create a new array. You have to update the original array.\n",
    "\n"
   ]
  },
  {
   "cell_type": "code",
   "execution_count": 5,
   "metadata": {},
   "outputs": [
    {
     "name": "stdout",
     "output_type": "stream",
     "text": [
      "[4, 6, 8, 2, 1]\n"
     ]
    }
   ],
   "source": [
    "def reverse(array):\n",
    "    i = 0\n",
    "    j = len(array) - 1\n",
    "    while i < j:\n",
    "        array[i], array[j] = array[j], array[i]\n",
    "        i += 1\n",
    "        j -= 1\n",
    "\n",
    "array = [1, 2, 8, 6, 4]\n",
    "reverse(array)\n",
    "print(array)"
   ]
  },
  {
   "attachments": {},
   "cell_type": "markdown",
   "metadata": {},
   "source": [
    "Q3. Write a program to check if two strings are a rotation of each other?\n",
    "\n"
   ]
  },
  {
   "cell_type": "code",
   "execution_count": 8,
   "metadata": {},
   "outputs": [
    {
     "name": "stdout",
     "output_type": "stream",
     "text": [
      "True\n"
     ]
    }
   ],
   "source": [
    "def rotate(x, y):\n",
    "    if len(x) != len(y):\n",
    "        return False\n",
    "    z = x + y\n",
    "    if y in z:\n",
    "        return True\n",
    "    else:\n",
    "        return False\n",
    "\n",
    "# Example usage\n",
    "x = \"hello world\"\n",
    "y = \"olleh dlrow\"\n",
    "result = rotate(x, y)\n",
    "print(result)"
   ]
  },
  {
   "attachments": {},
   "cell_type": "markdown",
   "metadata": {},
   "source": [
    "Q4. Write a program to print the first non-repeated character from a string?\n",
    "\n"
   ]
  },
  {
   "cell_type": "code",
   "execution_count": 9,
   "metadata": {},
   "outputs": [
    {
     "name": "stdout",
     "output_type": "stream",
     "text": [
      "L\n"
     ]
    }
   ],
   "source": [
    "def char(str):\n",
    "    counts = {}\n",
    "    for c in str:\n",
    "        if c in counts:\n",
    "            counts[c] += 1\n",
    "        else:\n",
    "            counts[c] = 1\n",
    "    for c in str:\n",
    "        if counts[c] == 1:\n",
    "            return c\n",
    "    return None\n",
    "\n",
    "str = \"Lucky\"\n",
    "result = char(str)\n",
    "print(result)"
   ]
  },
  {
   "attachments": {},
   "cell_type": "markdown",
   "metadata": {},
   "source": [
    "Q5. Read about the Tower of Hanoi algorithm. Write a program to implement it.\n"
   ]
  },
  {
   "cell_type": "code",
   "execution_count": 10,
   "metadata": {},
   "outputs": [
    {
     "name": "stdout",
     "output_type": "stream",
     "text": [
      "Move disk 1 source A destination C\n",
      "Move disk 2 source A destination B\n",
      "Move disk 1 source C destination B\n",
      "Move disk 3 source A destination C\n",
      "Move disk 1 source B destination A\n",
      "Move disk 2 source B destination C\n",
      "Move disk 1 source A destination C\n"
     ]
    }
   ],
   "source": [
    "def Tower_Hanoi(n, source, destination, aux):\n",
    "    if n == 0:\n",
    "        return\n",
    "    Tower_Hanoi(n-1, source, aux, destination)\n",
    "    print(\"Move disk\", n, \"source\", source, \"destination\", destination)\n",
    "    Tower_Hanoi(n-1, aux, destination, source)\n",
    "  \n",
    "\n",
    "N = 3\n",
    "\n",
    "Tower_Hanoi(N, 'A', 'C', 'B')"
   ]
  },
  {
   "attachments": {},
   "cell_type": "markdown",
   "metadata": {},
   "source": [
    "Q6. Read about infix, prefix, and postfix expressions. Write a program to convert postfix to prefix expression.\n",
    "\n"
   ]
  },
  {
   "cell_type": "code",
   "execution_count": 11,
   "metadata": {},
   "outputs": [
    {
     "name": "stdout",
     "output_type": "stream",
     "text": [
      "PostFix Expression is: AB+CD+*\n",
      "PreFix Expression is:  *+AB+CD\n"
     ]
    }
   ],
   "source": [
    "def operator(x):\n",
    "    if x == \"+\":\n",
    "        return True\n",
    "    if x == \"-\":\n",
    "        return True\n",
    "    if x == \"*\":\n",
    "        return True\n",
    "    if x == \"/\":\n",
    "        return True\n",
    "\n",
    "def postfixtoprefix(postfix_exp):\n",
    "    stack = []\n",
    "    length = len(postfix_exp)\n",
    "    for i in range(length):\n",
    "        if (operator(postfix_exp[i])):\n",
    "            operand_1 = stack[-1]\n",
    "            stack.pop()\n",
    "            operand_2 = stack[-1]\n",
    "            stack.pop()\n",
    "            temp = postfix_exp[i] + operand_2 + operand_1\n",
    "            stack.append(temp)\n",
    "        else:\n",
    "            stack.append(postfix_exp[i])\n",
    "            \n",
    "    ans = \" \"\n",
    "    for i in stack:\n",
    "        ans = ans + i\n",
    "    return ans\n",
    "\n",
    "postfix_exp = \"AB+CD+*\"\n",
    "print(\"PostFix Expression is:\",postfix_exp)\n",
    "print(\"PreFix Expression is:\",postfixtoprefix(postfix_exp))"
   ]
  },
  {
   "attachments": {},
   "cell_type": "markdown",
   "metadata": {},
   "source": [
    "Q7. Write a program to convert prefix expression to infix expression.\n",
    "\n"
   ]
  },
  {
   "cell_type": "code",
   "execution_count": 16,
   "metadata": {},
   "outputs": [
    {
     "name": "stdout",
     "output_type": "stream",
     "text": [
      "The infix expression is: ((((i)g)o)y)\n"
     ]
    }
   ],
   "source": [
    "def prefixToInfix(prefix):\n",
    "    if len(prefix) == 0:\n",
    "        return \"\"\n",
    "    elif prefix[0].isnumeric():\n",
    "        return prefix[0]\n",
    "    else:\n",
    "        operator = prefix[0]\n",
    "        left_operand = prefixToInfix(prefix[1:])\n",
    "        right_operand = prefixToInfix(prefix[len(left_operand)+1:])\n",
    "        return \"(\" + left_operand + operator + right_operand + \")\"\n",
    "\n",
    "prefix = input(\"Enter a prefix expression: \")\n",
    "infix = prefixToInfix(prefix)\n",
    "print(\"The infix expression is:\", infix)"
   ]
  },
  {
   "attachments": {},
   "cell_type": "markdown",
   "metadata": {},
   "source": [
    "Q8. Write a program to check if all the brackets are closed in a given code snippet.\n",
    "\n"
   ]
  },
  {
   "cell_type": "code",
   "execution_count": 18,
   "metadata": {},
   "outputs": [
    {
     "name": "stdout",
     "output_type": "stream",
     "text": [
      "True\n",
      "False\n"
     ]
    }
   ],
   "source": [
    "def is_balanced(code):\n",
    "    stack = []\n",
    "    for char in code:\n",
    "        if char in '([{':\n",
    "            stack.append(char)\n",
    "        elif char in ')]}':\n",
    "            if not stack:\n",
    "                return False\n",
    "            open_char = stack.pop()\n",
    "            if (open_char == '(' and char != ')') or \\\n",
    "               (open_char == '[' and char != ']') or \\\n",
    "               (open_char == '{' and char != '}'):\n",
    "                return False\n",
    "    return not stack\n",
    "\n",
    "\n",
    "code1 = \"def func(x): return x * (x + 1)\"  \n",
    "code2 = \"for i in range(10): print(i\"      \n",
    "\n",
    "print(is_balanced(code1)) \n",
    "print(is_balanced(code2))  "
   ]
  },
  {
   "attachments": {},
   "cell_type": "markdown",
   "metadata": {},
   "source": [
    "Q9. Write a program to reverse a stack.\n",
    "\n"
   ]
  },
  {
   "cell_type": "code",
   "execution_count": 19,
   "metadata": {},
   "outputs": [
    {
     "name": "stdout",
     "output_type": "stream",
     "text": [
      "[5, 4, 3, 2, 1]\n"
     ]
    }
   ],
   "source": [
    "def reverse(stack):\n",
    "    if not stack:\n",
    "        return\n",
    "    top = stack.pop()\n",
    "    reverse(stack)\n",
    "    insert_at_bottom(stack, top)\n",
    "\n",
    "def insert_at_bottom(stack, item):\n",
    "    if not stack:\n",
    "        stack.append(item)\n",
    "        return\n",
    "    top = stack.pop()\n",
    "    insert_at_bottom(stack, item)\n",
    "    stack.append(top)\n",
    "\n",
    "\n",
    "stack = [1, 2, 3, 4, 5]\n",
    "reverse(stack)\n",
    "print(stack)"
   ]
  },
  {
   "attachments": {},
   "cell_type": "markdown",
   "metadata": {},
   "source": [
    "Q10. Write a program to find the smallest number using a stack.\n",
    "\n"
   ]
  },
  {
   "cell_type": "code",
   "execution_count": 20,
   "metadata": {},
   "outputs": [
    {
     "name": "stdout",
     "output_type": "stream",
     "text": [
      "1\n",
      "2\n"
     ]
    }
   ],
   "source": [
    "class MinStack:\n",
    "    def __init__(self):\n",
    "        self.stack = []\n",
    "        self.min_stack = []\n",
    "\n",
    "    def push(self, item):\n",
    "        self.stack.append(item)\n",
    "        if not self.min_stack or item <= self.min_stack[-1]:\n",
    "            self.min_stack.append(item)\n",
    "\n",
    "    def pop(self):\n",
    "        if not self.stack:\n",
    "            return None\n",
    "        item = self.stack.pop()\n",
    "        if item == self.min_stack[-1]:\n",
    "            self.min_stack.pop()\n",
    "        return item\n",
    "\n",
    "    def get_min(self):\n",
    "        if not self.min_stack:\n",
    "            return None\n",
    "        return self.min_stack[-1]\n",
    "\n",
    "\n",
    "stack = MinStack()\n",
    "stack.push(2)\n",
    "stack.push(5)\n",
    "stack.push(7)\n",
    "stack.push(4)\n",
    "stack.push(1)\n",
    "print(stack.get_min()) \n",
    "stack.pop()\n",
    "stack.pop()\n",
    "print(stack.get_min())"
   ]
  }
 ],
 "metadata": {
  "kernelspec": {
   "display_name": "Python 3",
   "language": "python",
   "name": "python3"
  },
  "language_info": {
   "codemirror_mode": {
    "name": "ipython",
    "version": 3
   },
   "file_extension": ".py",
   "mimetype": "text/x-python",
   "name": "python",
   "nbconvert_exporter": "python",
   "pygments_lexer": "ipython3",
   "version": "3.11.2"
  },
  "orig_nbformat": 4
 },
 "nbformat": 4,
 "nbformat_minor": 2
}
